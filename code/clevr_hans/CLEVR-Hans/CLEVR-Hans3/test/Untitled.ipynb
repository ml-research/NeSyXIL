{
 "cells": [
  {
   "cell_type": "code",
   "execution_count": 1,
   "metadata": {},
   "outputs": [],
   "source": [
    "import json\n",
    "import numpy as np"
   ]
  },
  {
   "cell_type": "code",
   "execution_count": 2,
   "metadata": {},
   "outputs": [],
   "source": [
    "with open('CLEVR_HANS_scenes_test.json') as fd:\n",
    "    scenes = json.load(fd)[\"scenes\"]"
   ]
  },
  {
   "cell_type": "code",
   "execution_count": 3,
   "metadata": {},
   "outputs": [],
   "source": [
    "ids = np.random.randint(0, len(scenes), int(0.25*len(scenes)))\n",
    "clevr_hans3_test_small = np.array(scenes)[ids]"
   ]
  },
  {
   "cell_type": "code",
   "execution_count": 5,
   "metadata": {},
   "outputs": [],
   "source": [
    "from PIL import Image\n",
    "for scene in clevr_hans3_test_small:\n",
    "    img = Image.open(f\"images/{scene['image_filename']}\")\n",
    "    img.save(f\"images_small/{scene['image_filename']}\")\n",
    "    scene_fname = scene['image_filename'].split('.png')[0]+'.json'\n",
    "    with open(f\"scenes/{scene_fname}\", 'r') as fd:\n",
    "        scene_2 = json.load(fd)\n",
    "    with open(f\"scenes_small/{scene_fname}\", 'w') as fd:\n",
    "            json.dump(scene_2, fd)"
   ]
  },
  {
   "cell_type": "code",
   "execution_count": 6,
   "metadata": {},
   "outputs": [],
   "source": [
    "d = {\"scenes\": list(clevr_hans3_test_small)}\n",
    "with open(\"CLEVR_HANS_scenes_test_small.json\", 'w') as fd:\n",
    "        json.dump(d, fd)"
   ]
  },
  {
   "cell_type": "code",
   "execution_count": null,
   "metadata": {},
   "outputs": [],
   "source": []
  }
 ],
 "metadata": {
  "kernelspec": {
   "display_name": "Python 3",
   "language": "python",
   "name": "python3"
  },
  "language_info": {
   "codemirror_mode": {
    "name": "ipython",
    "version": 3
   },
   "file_extension": ".py",
   "mimetype": "text/x-python",
   "name": "python",
   "nbconvert_exporter": "python",
   "pygments_lexer": "ipython3",
   "version": "3.7.7"
  }
 },
 "nbformat": 4,
 "nbformat_minor": 2
}
